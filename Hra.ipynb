{
  "cells": [
    {
      "cell_type": "markdown",
      "metadata": {
        "id": "view-in-github",
        "colab_type": "text"
      },
      "source": [
        "<a href=\"https://colab.research.google.com/github/IvonaUpol/Slovakia/blob/main/Hra.ipynb\" target=\"_parent\"><img src=\"https://colab.research.google.com/assets/colab-badge.svg\" alt=\"Open In Colab\"/></a>"
      ]
    },
    {
      "cell_type": "code",
      "execution_count": null,
      "metadata": {
        "id": "hzfWMtgaUUSo"
      },
      "outputs": [],
      "source": []
    },
    {
      "cell_type": "markdown",
      "metadata": {
        "id": "lbtdgTfoUeNV"
      },
      "source": [
        "# Tvorba hry\n",
        "Napiš mi příběh a dej mi na konci 2 možnosti na výběr. Po výběru vytvoř další část příběhu. Vždy je jen jedna možnost správná."
      ]
    },
    {
      "cell_type": "code",
      "execution_count": null,
      "metadata": {
        "colab": {
          "background_save": true,
          "base_uri": "https://localhost:8080/"
        },
        "id": "J5r3lWDuVe7v",
        "outputId": "69d75354-445c-4337-b1d2-09c02f9f0ab4"
      },
      "outputs": [
        {
          "output_type": "stream",
          "name": "stdout",
          "text": [
            "Probudíš se v temné, vlhké jeskyni. Nic si nepamatuješ, jen že tě bolí hlava a všude kolem je zima. V dálce slyšíš kapání vody a cítíš lehký průvan.\n",
            "\n",
            "Co uděláš?\n",
            "1. Vstaneš a vydáš se směrem, odkud cítíš průvan.\n",
            "2. Zůstaneš ležet a pokusíš se vzpomenout si, jak ses sem dostal.\n"
          ]
        }
      ],
      "source": [
        "# prompt: Napiš mi příběh a dej mi na konci 2 možnosti na výběr. Po výběru vytvoř další část příběhu. Vždy je jen jedna možnost správná.\n",
        "\n",
        "import random\n",
        "# Story part 1\n",
        "print(\"Probudíš se v temné, vlhké jeskyni. Nic si nepamatuješ, jen že tě bolí hlava a všude kolem je zima. V dálce slyšíš kapání vody a cítíš lehký průvan.\")\n",
        "print(\"\\nCo uděláš?\")\n",
        "print(\"1. Vstaneš a vydáš se směrem, odkud cítíš průvan.\")\n",
        "print(\"2. Zůstaneš ležet a pokusíš se vzpomenout si, jak ses sem dostal.\")\n",
        "\n",
        "choice1 = input(\"Zadej číslo možnosti: \")\n",
        "\n",
        "# Story part 2 based on choice\n",
        "if choice1 == \"1\":\n",
        "  print(\"\\nVstaneš a pomalu se pohybuješ tmavou chodbou. Průvan zesiluje a po chvíli uvidíš slabé světlo. Dojdeš ke skalnímu oknu, kterým proudí čerstvý vzduch a dovnitř dopadají paprsky zapadajícího slunce.\")\n",
        "  print(\"\\nCo uděláš?\")\n",
        "  print(\"1. Pokusíš se oknem prolézt ven.\")\n",
        "  print(\"2. Rozhlédneš se po jeskyni, jestli nenajdeš jinou cestu ven.\")\n",
        "  choice2 = input(\"Zadej číslo možnosti: \")\n",
        "\n",
        "  if choice2 == \"1\":\n",
        "    print(\"\\nJsi příliš slabý a okno je příliš úzké. Zasekneš se a nemůžeš se pohnout. Postupně ti dochází dech a zima tě zmáhá. Toto byl konec tvého dobrodružství.\")\n",
        "    # This is the wrong choice\n",
        "  elif choice2 == \"2\":\n",
        "    print(\"\\nProzkoumáváš okolí a za velkým balvanem objevíš úzkou štěrbinu. Proklouzneš jí a ocitneš se v další části jeskyně. V dálce vidíš další světlo a doufáš, že to je cesta ven.\")\n",
        "    print(\"\\nPokračování příště...\") # This is the correct choice for now\n",
        "  else:\n",
        "    print(\"Neplatná volba. Příběh končí.\")\n",
        "\n",
        "elif choice1 == \"2\":\n",
        "  print(\"\\nZůstáváš ležet, ale vzpomínky nepřicházejí. Zima a hlad tě postupně vyčerpávají. Bez jídla a vody nemáš šanci přežít. Toto byl konec tvého dobrodružství.\")\n",
        "  # This is the wrong choice\n",
        "\n",
        "else:\n",
        "  print(\"Neplatná volba. Příběh končí.\")\n"
      ]
    }
  ],
  "metadata": {
    "colab": {
      "provenance": [],
      "authorship_tag": "ABX9TyNQdN0QwHXDSfDHA+ZlzCHF",
      "include_colab_link": true
    },
    "kernelspec": {
      "display_name": "Python 3",
      "name": "python3"
    },
    "language_info": {
      "name": "python"
    }
  },
  "nbformat": 4,
  "nbformat_minor": 0
}