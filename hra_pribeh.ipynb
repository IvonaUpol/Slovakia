{
  "nbformat": 4,
  "nbformat_minor": 0,
  "metadata": {
    "colab": {
      "provenance": [],
      "include_colab_link": true
    },
    "kernelspec": {
      "name": "python3",
      "display_name": "Python 3"
    },
    "language_info": {
      "name": "python"
    }
  },
  "cells": [
    {
      "cell_type": "markdown",
      "metadata": {
        "id": "view-in-github",
        "colab_type": "text"
      },
      "source": [
        "<a href=\"https://colab.research.google.com/github/IvonaUpol/Slovakia/blob/main/hra_pribeh.ipynb\" target=\"_parent\"><img src=\"https://colab.research.google.com/assets/colab-badge.svg\" alt=\"Open In Colab\"/></a>"
      ]
    },
    {
      "cell_type": "markdown",
      "source": [
        "Tvorba hry"
      ],
      "metadata": {
        "id": "IsegSittf3YQ"
      }
    },
    {
      "cell_type": "code",
      "execution_count": null,
      "metadata": {
        "id": "_92B6H0ce3k3"
      },
      "outputs": [],
      "source": []
    },
    {
      "cell_type": "markdown",
      "source": [
        "# Tvorba hry\n",
        "Príbeh s dvemi možnosťami na konci 2. Po výberu sa vytvorý další časť príbehu. Vždy je len jedna možnosť správna."
      ],
      "metadata": {
        "id": "I3fA4v1_gTZ7"
      }
    },
    {
      "cell_type": "code",
      "source": [
        "def zaciatok():\n",
        "    print(\"Vitaj v našom príbehu! Si na začiatku dobrodružstva.\")\n",
        "    print(\"Si v lese a máš pred sebou dve cesty. Ktorú si vyberieš?\")\n",
        "    print(\"1. Cesta vľavo\")\n",
        "    print(\"2. Cesta vpravo\")\n",
        "\n",
        "    volba = input(\"Zadaj 1 alebo 2: \")\n",
        "    if volba == \"1\":\n",
        "        cesta_vlavo()\n",
        "    elif volba == \"2\":\n",
        "        cesta_vpravo()\n",
        "    else:\n",
        "        print(\"Neplatná voľba. Zadaj 1 alebo 2.\")\n",
        "        zaciatok()\n",
        "\n",
        "def cesta_vlavo():\n",
        "    print(\"Vybral(a) si cestu vľavo. Po chvíli začneš počuť zvláštny zvuk...\")\n",
        "    print(\"Zrazu sa pred tebou objaví obrovská líška, ktorá ťa vyzýva na hru.\")\n",
        "    print(\"1. Prijmeš výzvu a zahraješ sa s ňou.\")\n",
        "    print(\"2. Pokúsiš sa obísť líšku a pokračovať ďalej.\")\n",
        "\n",
        "    volba = input(\"Zadaj 1 alebo 2: \")\n",
        "    if volba == \"1\":\n",
        "        hrat_s_liskou()\n",
        "    elif volba == \"2\":\n",
        "        obist_lisku()\n",
        "    else:\n",
        "        print(\"Neplatná voľba. Zadaj 1 alebo 2.\")\n",
        "        cesta_vlavo()\n",
        "\n",
        "def cesta_vpravo():\n",
        "    print(\"Vybral(a) si cestu vpravo. Po niekoľkých krokoch narazíš na starý opustený hrad.\")\n",
        "    print(\"Vstúpiš dovnútra a nájdeš pred sebou dve dvere.\")\n",
        "    print(\"1. Otvoríš dvere vpravo.\")\n",
        "    print(\"2. Otvoríš dvere vľavo.\")\n",
        "\n",
        "    volba = input(\"Zadaj 1 alebo 2: \")\n",
        "    if volba == \"1\":\n",
        "        dvere_vpravo()\n",
        "    elif volba == \"2\":\n",
        "        dvere_vlavo()\n",
        "    else:\n",
        "        print(\"Neplatná voľba. Zadaj 1 alebo 2.\")\n",
        "        cesta_vpravo()\n",
        "\n",
        "def hrat_s_liskou():\n",
        "    print(\"Hráš sa s líškou a zrazu ti ponúkne zlatú mincu ako dar. Šťastie ťa sprevádza!\")\n",
        "    print(\"Získal(a) si poklad. Gratulujeme!\")\n",
        "    koniec()\n",
        "\n",
        "def obist_lisku():\n",
        "    print(\"Pokúsiš sa obísť líšku, ale ona ťa prenasleduje. Po chvíli sa zastaví a povedia ti, že si sklamal(a).\")\n",
        "    print(\"Nemáš šťastie... Skús to znovu!\")\n",
        "    zaciatok()\n",
        "\n",
        "def dvere_vpravo():\n",
        "    print(\"Otvoríš dvere vpravo a zistíš, že sú to dvere vedúce do miestnosti plnej zlatých pokladov.\")\n",
        "    print(\"Poklad je tvoj. Skončil(a) si s víťazstvom!\")\n",
        "    koniec()\n",
        "\n",
        "def dvere_vlavo():\n",
        "    print(\"Otvoríš dvere vľavo a objavíš prázdnu miestnosť. Po chvíli sa dvere za tebou zabuchnú.\")\n",
        "    print(\"Zostal(a) si v miestnosti a nemáš žiadnu možnosť. Skús to znovu.\")\n",
        "    zaciatok()\n",
        "\n",
        "def koniec():\n",
        "    print(\"Koniec príbehu. Ďakujeme za hranie!\")\n",
        "\n",
        "# Hlavná časť programu\n",
        "zaciatok()\n"
      ],
      "metadata": {
        "colab": {
          "base_uri": "https://localhost:8080/"
        },
        "id": "dud6uaLPg5hP",
        "outputId": "bff80e90-87d3-4f8e-9836-4aa0d78ac145"
      },
      "execution_count": 1,
      "outputs": [
        {
          "output_type": "stream",
          "name": "stdout",
          "text": [
            "Vitaj v našom príbehu! Si na začiatku dobrodružstva.\n",
            "Si v lese a máš pred sebou dve cesty. Ktorú si vyberieš?\n",
            "1. Cesta vľavo\n",
            "2. Cesta vpravo\n",
            "Zadaj 1 alebo 2: 2\n",
            "Vybral(a) si cestu vpravo. Po niekoľkých krokoch narazíš na starý opustený hrad.\n",
            "Vstúpiš dovnútra a nájdeš pred sebou dve dvere.\n",
            "1. Otvoríš dvere vpravo.\n",
            "2. Otvoríš dvere vľavo.\n",
            "Zadaj 1 alebo 2: 1\n",
            "Otvoríš dvere vpravo a zistíš, že sú to dvere vedúce do miestnosti plnej zlatých pokladov.\n",
            "Poklad je tvoj. Skončil(a) si s víťazstvom!\n",
            "Koniec príbehu. Ďakujeme za hranie!\n"
          ]
        }
      ]
    }
  ]
}